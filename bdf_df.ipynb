{
 "cells": [
  {
   "cell_type": "code",
   "execution_count": null,
   "metadata": {},
   "outputs": [],
   "source": [
    "import pyedflib\n",
    "import numpy as np\n",
    "import os\n",
    "import matplotlib.pyplot as plt\n",
    "import scipy \n",
    "import pandas as pd\n",
    "import polars as pl\n",
    "from edf_file_reader import EdfFileReader\n",
    "\n",
    "print (os.environ['CONDA_DEFAULT_ENV'])"
   ]
  },
  {
   "cell_type": "code",
   "execution_count": null,
   "metadata": {},
   "outputs": [],
   "source": [
    "#set path to main directory\n",
    "path = '../..'\n",
    "\n",
    "#open the df with data labels\n",
    "df = pd.read_excel(f\"{path}/data/data_labels.xlsx\")"
   ]
  },
  {
   "cell_type": "code",
   "execution_count": null,
   "metadata": {},
   "outputs": [],
   "source": [
    "#for loop to open each bdf file and instanitate the EdfFileReader class,read the file, \n",
    "#then loop through each signal and\n",
    "#save each signal as a seperate parquet file and save it in the directory of the file it came from\n",
    "\n",
    "\n",
    "#identify the signals to extract\n",
    "signal_ls = ['ECG_A', 'ECG_B', 'HR', 'RR_int', 'resp', 'skin_imp', 'RR', 'skin_temp', 'ACC_X', 'ACC_Y', 'ACC_Z', 'posture', 'posture_fine', 'activity', 'body_temp']\n",
    "\n",
    "#loop throught the df\n",
    "for index, row in df.iterrows():\n",
    "    #get the file path for the biosensors\n",
    "    biosensor_id = row['Biosensor ID']\n",
    "    file_name = row['File name']\n",
    "    print(biosensor_id)\n",
    "    file_path = f\"{path}/bdf_files/{file_name}/{biosensor_id}/{biosensor_id}.bdf\" \n",
    "    \n",
    "    #instantiate the EdfFileReader class\n",
    "    file_reader = EdfFileReader(file_path)\n",
    "    file_reader.read_file()\n",
    "    \n",
    "    #enter the file duration back into the original df (df)\n",
    "    dur = file_reader.file_dur\n",
    "    #df.at[index, 'file duration(s)'] = dur\n",
    "\n",
    "    #loop through each signal and save it as a parquet file under the biosensor directory\n",
    "    for signal in signal_ls:\n",
    "        signal_df = pl.from_numpy(getattr(file_reader, signal), )\n",
    "        file_path = f\"{path}/bdf_files/{file_name}/{biosensor_id}/{signal}\"\n",
    "        signal_df.write_parquet(file_path + '.parquet')"
   ]
  }
 ],
 "metadata": {
  "kernelspec": {
   "display_name": "hr-env",
   "language": "python",
   "name": "python3"
  },
  "language_info": {
   "codemirror_mode": {
    "name": "ipython",
    "version": 3
   },
   "file_extension": ".py",
   "mimetype": "text/x-python",
   "name": "python",
   "nbconvert_exporter": "python",
   "pygments_lexer": "ipython3",
   "version": "3.12.6"
  }
 },
 "nbformat": 4,
 "nbformat_minor": 2
}
